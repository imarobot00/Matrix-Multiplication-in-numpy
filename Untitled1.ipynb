{
 "cells": [
  {
   "cell_type": "code",
   "execution_count": 2,
   "id": "39ebfd06-6d08-41e7-95b6-3d3016c2ac91",
   "metadata": {},
   "outputs": [],
   "source": [
    "import numpy as np"
   ]
  },
  {
   "cell_type": "code",
   "execution_count": 3,
   "id": "601541f8-aec8-47c8-ab03-36a2c2b8a8c6",
   "metadata": {},
   "outputs": [],
   "source": [
    "list=[1,2,3,4,5,6,7,8,9]"
   ]
  },
  {
   "cell_type": "code",
   "execution_count": 4,
   "id": "db80a78e-20f8-48f2-93d2-0c3b5f3d0deb",
   "metadata": {},
   "outputs": [
    {
     "name": "stdout",
     "output_type": "stream",
     "text": [
      "(9,)\n",
      "[[1 2 3]\n",
      " [4 5 6]\n",
      " [7 8 9]]\n",
      "[array([[2., 5., 8.]]) array([[4., 5., 6.]]) array([[5.]])]\n"
     ]
    }
   ],
   "source": [
    "def calculate(lst):\n",
    "    arr = np.array(lst)\n",
    "    print(arr.shape)\n",
    "    newarr = arr.reshape((3, 3))\n",
    "    print(newarr)\n",
    "    mean = np.mean(newarr)\n",
    "    rowmeans = np.mean(newarr, axis=1)\n",
    "    columnmeans = np.mean(newarr, axis=0)\n",
    "    combined_array1 = rowmeans.reshape(1, 3)\n",
    "    combined_array2 = columnmeans.reshape(1, 3)\n",
    "    combined_array3 = np.array([[mean]])  # Reshape mean to (1, 1)\n",
    "    combinedlist = [combined_array1, combined_array2, combined_array3]\n",
    "    combinedarray = np.empty([3], dtype=object)\n",
    "    combinedarray[:] = combinedlist\n",
    "    print(combinedarray)\n",
    "\n",
    "calculate([1, 2, 3, 4, 5, 6, 7, 8, 9])"
   ]
  }
 ],
 "metadata": {
  "kernelspec": {
   "display_name": "Python 3 (ipykernel)",
   "language": "python",
   "name": "python3"
  },
  "language_info": {
   "codemirror_mode": {
    "name": "ipython",
    "version": 3
   },
   "file_extension": ".py",
   "mimetype": "text/x-python",
   "name": "python",
   "nbconvert_exporter": "python",
   "pygments_lexer": "ipython3",
   "version": "3.9.2"
  }
 },
 "nbformat": 4,
 "nbformat_minor": 5
}
